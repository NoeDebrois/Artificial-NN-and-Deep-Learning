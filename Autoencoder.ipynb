{
  "cells": [
    {
      "cell_type": "markdown",
      "metadata": {
        "id": "view-in-github",
        "colab_type": "text"
      },
      "source": [
        "<a href=\"https://colab.research.google.com/github/NoeDebrois/Artificial-NN-and-Deep-Learning/blob/main/Autoencoder.ipynb\" target=\"_parent\"><img src=\"https://colab.research.google.com/assets/colab-badge.svg\" alt=\"Open In Colab\"/></a>"
      ]
    },
    {
      "cell_type": "markdown",
      "id": "S5SUF9FTR3rs",
      "metadata": {
        "id": "S5SUF9FTR3rs"
      },
      "source": [
        "# Artificial Neural Networks and Deep Learning\n",
        "\n",
        "---\n",
        "\n",
        "## Lecture 6a: Autoencoders\n",
        "\n",
        "<img src=\"https://drive.google.com/uc?export=view&id=1E28s8D4qMjpeYKXBM2uPNRB_XeL1jIOr\" width=\"500\"/>"
      ]
    },
    {
      "cell_type": "markdown",
      "id": "Z6YcjEa6wcqi",
      "metadata": {
        "id": "Z6YcjEa6wcqi"
      },
      "source": [
        "## 🌐 Connect Colab to Google Drive"
      ]
    },
    {
      "cell_type": "code",
      "execution_count": null,
      "id": "3FHmSb3iwdMI",
      "metadata": {
        "id": "3FHmSb3iwdMI"
      },
      "outputs": [],
      "source": [
        "from google.colab import drive\n",
        "drive.mount('/gdrive')\n",
        "%cd /gdrive/My Drive/[2024-2025] AN2DL/Lecture 6"
      ]
    },
    {
      "cell_type": "markdown",
      "id": "Nh3uuJtswcny",
      "metadata": {
        "id": "Nh3uuJtswcny"
      },
      "source": [
        "## ⚙️ Import Libraries"
      ]
    },
    {
      "cell_type": "code",
      "execution_count": null,
      "id": "badb560b",
      "metadata": {
        "id": "badb560b"
      },
      "outputs": [],
      "source": [
        "# Set seed for reproducibility\n",
        "seed = 42\n",
        "\n",
        "# Import necessary libraries\n",
        "import os\n",
        "\n",
        "# Set environment variables before importing modules\n",
        "os.environ['TF_CPP_MIN_LOG_LEVEL'] = '3'\n",
        "os.environ['PYTHONHASHSEED'] = str(seed)\n",
        "os.environ['MPLCONFIGDIR'] = os.getcwd() + '/configs/'\n",
        "\n",
        "# Suppress warnings\n",
        "import warnings\n",
        "warnings.simplefilter(action='ignore', category=FutureWarning)\n",
        "warnings.simplefilter(action='ignore', category=Warning)\n",
        "\n",
        "# Import necessary modules\n",
        "import logging\n",
        "import random\n",
        "import numpy as np\n",
        "\n",
        "# Set seeds for random number generators in NumPy and Python\n",
        "np.random.seed(seed)\n",
        "random.seed(seed)\n",
        "\n",
        "# Import TensorFlow and Keras\n",
        "import tensorflow as tf\n",
        "from tensorflow import keras as tfk\n",
        "from tensorflow.keras import layers as tfkl\n",
        "\n",
        "# Set seed for TensorFlow\n",
        "tf.random.set_seed(seed)\n",
        "tf.compat.v1.set_random_seed(seed)\n",
        "\n",
        "# Reduce TensorFlow verbosity\n",
        "tf.autograph.set_verbosity(0)\n",
        "tf.get_logger().setLevel(logging.ERROR)\n",
        "tf.compat.v1.logging.set_verbosity(tf.compat.v1.logging.ERROR)\n",
        "\n",
        "# Print TensorFlow version\n",
        "print(tf.__version__)\n",
        "\n",
        "\n",
        "from sklearn.manifold import TSNE\n",
        "from sklearn.model_selection import train_test_split\n",
        "import plotly.graph_objects as go\n",
        "import plotly.express as px\n",
        "import pandas as pd\n",
        "\n",
        "\n",
        "# Configure plot display settings\n",
        "import matplotlib.pyplot as plt\n",
        "import seaborn as sns\n",
        "sns.set(font_scale=1.4)\n",
        "sns.set_style('white')\n",
        "plt.rc('font', size=14)\n",
        "%matplotlib inline"
      ]
    },
    {
      "cell_type": "markdown",
      "id": "jCBH5VgI288m",
      "metadata": {
        "id": "jCBH5VgI288m"
      },
      "source": [
        "## ⏳ Load and Process Data"
      ]
    },
    {
      "cell_type": "code",
      "execution_count": null,
      "id": "8b39093e",
      "metadata": {
        "id": "8b39093e"
      },
      "outputs": [],
      "source": [
        "# Load the data\n",
        "(X_train_val, y_train_val), (X_test, y_test) = tfk.datasets.mnist.load_data()\n",
        "\n",
        "# Add channel dimension before resizing (smart_resize expects shape [batch, height, width, channels])\n",
        "X_train_val = X_train_val[..., np.newaxis]\n",
        "X_test = X_test[..., np.newaxis]\n",
        "\n",
        "# Resize to 32x32\n",
        "X_train_val = tfk.preprocessing.image.smart_resize(X_train_val, (32, 32))\n",
        "X_test = tfk.preprocessing.image.smart_resize(X_test, (32, 32))\n",
        "\n",
        "# Normalize pixel values\n",
        "X_train_val = X_train_val.astype('float32') / 255.0\n",
        "X_test = X_test.astype('float32') / 255.0\n",
        "\n",
        "# Class names for reference\n",
        "class_names = ['Zero', 'One', 'Two', 'Three', 'Four', 'Five', 'Six', 'Seven', 'Eight', 'Nine']"
      ]
    },
    {
      "cell_type": "code",
      "execution_count": null,
      "id": "56ced6a1",
      "metadata": {
        "id": "56ced6a1"
      },
      "outputs": [],
      "source": [
        "# Inspect the data\n",
        "fig, axes = plt.subplots(1, 10, figsize=(20,10))\n",
        "for i in range(10):\n",
        "    ax = axes[i%10]\n",
        "    ax.imshow(np.squeeze(X_train_val[i]), cmap='gray')\n",
        "    ax.set_title(class_names[y_train_val[i]], pad=10)\n",
        "    ax.axis('off')\n",
        "plt.tight_layout()\n",
        "plt.show()"
      ]
    },
    {
      "cell_type": "code",
      "execution_count": null,
      "id": "KGUN5cEkUyjm",
      "metadata": {
        "id": "KGUN5cEkUyjm"
      },
      "outputs": [],
      "source": [
        "# Split between train and validation\n",
        "X_train, X_val, y_train, y_val = train_test_split(X_train_val, y_train_val, test_size=len(X_test), random_state=seed, stratify=y_train_val)\n",
        "print(\"Training data shape:\", X_train.shape)\n",
        "print(\"Validation data shape:\", X_val.shape)\n",
        "print(\"Test data shape:\", X_test.shape)"
      ]
    },
    {
      "cell_type": "code",
      "execution_count": null,
      "id": "7c920337",
      "metadata": {
        "id": "7c920337"
      },
      "outputs": [],
      "source": [
        "# Define the input shape based on the training data\n",
        "input_shape = X_train.shape[1:]\n",
        "\n",
        "# Define the latent dimension for dimensionality reduction or feature extraction\n",
        "latent_dim = 2\n",
        "\n",
        "# Set the learning rate for the optimizer\n",
        "learning_rate = 1e-3\n",
        "\n",
        "# Define the batch size for training\n",
        "batch_size = 128\n",
        "\n",
        "# Set the number of epochs for training\n",
        "epochs = 1000\n",
        "\n",
        "# Print the configurations to verify their correctness\n",
        "print(f'Input shape: {input_shape}')\n",
        "print(f'Latent dimension: {latent_dim}')\n",
        "print(f'Learning rate: {learning_rate}')\n",
        "print(f'Batch size: {batch_size}')\n",
        "print(f'Epochs: {epochs}')"
      ]
    },
    {
      "cell_type": "markdown",
      "id": "jL4OVXFS24xC",
      "metadata": {
        "id": "jL4OVXFS24xC"
      },
      "source": [
        "## 🛠️ Build and Train the Autoencoder"
      ]
    },
    {
      "cell_type": "markdown",
      "id": "jMz6aPVgBGkO",
      "metadata": {
        "id": "jMz6aPVgBGkO"
      },
      "source": [
        "<img src=\"https://it.mathworks.com/discovery/autoencoder/_jcr_content/mainParsys/image.adapt.480.medium.svg/1708410150207.svg\" width=\"700\">"
      ]
    },
    {
      "cell_type": "code",
      "execution_count": null,
      "id": "51363243",
      "metadata": {
        "id": "51363243"
      },
      "outputs": [],
      "source": [
        "def get_encoder(enc_input_shape=input_shape, enc_output_shape=latent_dim, seed=seed):\n",
        "    # Set the random seed for reproducibility\n",
        "    tf.random.set_seed(seed)\n",
        "\n",
        "    # Define the input layer with the specified shape\n",
        "    input_layer = tfkl.Input(shape=enc_input_shape, name='input_layer')\n",
        "\n",
        "    # First convolution block\n",
        "    x = tfkl.Conv2D(32, 3, 2, padding='same')(input_layer)\n",
        "    x = tfkl.BatchNormalization()(x)\n",
        "    x = tfkl.LeakyReLU()(x)\n",
        "\n",
        "    # Second convolution block\n",
        "    x = tfkl.Conv2D(64, 3, 2, padding='same')(x)\n",
        "    x = tfkl.BatchNormalization()(x)\n",
        "    x = tfkl.LeakyReLU()(x)\n",
        "\n",
        "    # Third convolution block\n",
        "    x = tfkl.Conv2D(128, 3, 2, padding='same')(x)\n",
        "    x = tfkl.BatchNormalization()(x)\n",
        "    x = tfkl.LeakyReLU()(x)\n",
        "\n",
        "    # Flatten the output of the last convolution layer\n",
        "    x = tfkl.Flatten()(x)\n",
        "    # Define the output layer with the specified output shape\n",
        "    output_layer = tfkl.Dense(enc_output_shape, name='output_layer')(x)\n",
        "\n",
        "    # Create the model linking input and output\n",
        "    model = tfk.Model(inputs=input_layer, outputs=output_layer, name='encoder')\n",
        "\n",
        "    return model"
      ]
    },
    {
      "cell_type": "code",
      "execution_count": null,
      "id": "f3vT-q3NVJrZ",
      "metadata": {
        "id": "f3vT-q3NVJrZ"
      },
      "outputs": [],
      "source": [
        "encoder = get_encoder()\n",
        "\n",
        "# Print a detailed summary of the encoder with expanded nested layers and trainable parameters.\n",
        "encoder.summary(expand_nested=True, show_trainable=True)\n",
        "\n",
        "# Generate and display a graphical representation of the encoder architecture.\n",
        "tf.keras.utils.plot_model(encoder, show_trainable=True, expand_nested=True, dpi=70)"
      ]
    },
    {
      "cell_type": "code",
      "execution_count": null,
      "id": "8c77ab6b",
      "metadata": {
        "id": "8c77ab6b"
      },
      "outputs": [],
      "source": [
        "def get_decoder(dec_input_shape=(latent_dim,), dec_output_shape=input_shape, seed=seed):\n",
        "    # Set the random seed for reproducibility\n",
        "    tf.random.set_seed(seed)\n",
        "\n",
        "    # Define the input layer with the specified shape\n",
        "    input_layer = tfkl.Input(shape=dec_input_shape, name='input_layer')\n",
        "\n",
        "    # Start the decoder network with a dense layer\n",
        "    # and reshape into the desired initial convolutional shape\n",
        "    x = tfkl.Dense(4*4*128)(input_layer)\n",
        "    x = tfkl.BatchNormalization()(x)\n",
        "    x = tfkl.LeakyReLU()(x)\n",
        "    x = tfkl.Reshape((4, 4, 128))(x)\n",
        "\n",
        "    # First upsampling and convolution block\n",
        "    x = tfkl.UpSampling2D(interpolation='bilinear')(x)\n",
        "    x = tfkl.Conv2D(128, 3, padding='same')(x)\n",
        "    x = tfkl.BatchNormalization()(x)\n",
        "    x = tfkl.LeakyReLU()(x)\n",
        "\n",
        "    # Second upsampling and convolution block\n",
        "    x = tfkl.UpSampling2D(interpolation='bilinear')(x)\n",
        "    x = tfkl.Conv2D(64, 3, padding='same')(x)\n",
        "    x = tfkl.BatchNormalization()(x)\n",
        "    x = tfkl.LeakyReLU()(x)\n",
        "\n",
        "    # Third upsampling and convolution block\n",
        "    x = tfkl.UpSampling2D(interpolation='bilinear')(x)\n",
        "    x = tfkl.Conv2D(32, 3, padding='same')(x)\n",
        "    x = tfkl.BatchNormalization()(x)\n",
        "    x = tfkl.LeakyReLU()(x)\n",
        "\n",
        "    # Apply a final convolution with the number of channels equal to the original image depth\n",
        "    x = tfkl.Conv2D(dec_output_shape[-1], 3, padding='same')(x)\n",
        "\n",
        "    # Sigmoid activation to ensure output values between 0 and 1\n",
        "    output_layer = tfkl.Activation('sigmoid')(x)\n",
        "\n",
        "    # Connect input and output through the Model class\n",
        "    model = tfk.Model(inputs=input_layer, outputs=output_layer, name='decoder')\n",
        "\n",
        "    return model"
      ]
    },
    {
      "cell_type": "code",
      "execution_count": null,
      "id": "plLO9UgSWu-t",
      "metadata": {
        "id": "plLO9UgSWu-t"
      },
      "outputs": [],
      "source": [
        "decoder = get_decoder()\n",
        "\n",
        "# Print a detailed summary of the decoder with expanded nested layers and trainable parameters.\n",
        "decoder.summary(expand_nested=True, show_trainable=True)\n",
        "\n",
        "# Generate and display a graphical representation of the decoder architecture.\n",
        "tf.keras.utils.plot_model(decoder, show_trainable=True, expand_nested=True, dpi=70)"
      ]
    },
    {
      "cell_type": "code",
      "execution_count": null,
      "id": "90552901",
      "metadata": {
        "id": "90552901"
      },
      "outputs": [],
      "source": [
        "def get_autoencoder(ae_input_shape=input_shape, ae_output_shape=input_shape):\n",
        "    # Set the random seed to ensure reproducibility\n",
        "    tf.random.set_seed(seed)\n",
        "\n",
        "    # Initialize the encoder and decoder models\n",
        "    encoder = get_encoder()\n",
        "    decoder = get_decoder()\n",
        "\n",
        "    # Define the input layer\n",
        "    input_layer = tfkl.Input(shape=ae_input_shape)\n",
        "\n",
        "    # Pass input through the encoder to get the compressed representation\n",
        "    z = encoder(input_layer)\n",
        "\n",
        "    # Pass the representation through the decoder to reconstruct the input\n",
        "    output_layer = decoder(z)\n",
        "\n",
        "    # Create the autoencoder model\n",
        "    model = tfk.Model(inputs=input_layer, outputs=output_layer, name='autoencoder')\n",
        "    return model"
      ]
    },
    {
      "cell_type": "code",
      "execution_count": null,
      "id": "sL_sB_ayXMdF",
      "metadata": {
        "id": "sL_sB_ayXMdF"
      },
      "outputs": [],
      "source": [
        "autoencoder = get_autoencoder()\n",
        "\n",
        "# Print a detailed summary of the autoencoder with expanded nested layers and trainable parameters.\n",
        "autoencoder.summary(expand_nested=True, show_trainable=True)\n",
        "\n",
        "# Generate and display a graphical representation of the autoencoder architecture.\n",
        "tf.keras.utils.plot_model(autoencoder, show_trainable=True, expand_nested=True, dpi=70)"
      ]
    },
    {
      "cell_type": "code",
      "execution_count": null,
      "id": "ec245f4d",
      "metadata": {
        "id": "ec245f4d"
      },
      "outputs": [],
      "source": [
        "# Initialize the optimizer with the defined learning rate\n",
        "optimizer = tf.optimizers.Adam(learning_rate)\n",
        "\n",
        "# Compile the autoencoder with Adam optimizer and mean squared error loss\n",
        "autoencoder.compile(optimizer=optimizer, loss=tfk.losses.MeanSquaredError())"
      ]
    },
    {
      "cell_type": "code",
      "execution_count": null,
      "id": "e862a952",
      "metadata": {
        "id": "e862a952"
      },
      "outputs": [],
      "source": [
        "# Train the autoencoder model\n",
        "history = autoencoder.fit(\n",
        "    X_train,\n",
        "    X_train,\n",
        "    batch_size=batch_size,\n",
        "    epochs=epochs,\n",
        "    validation_data=(X_val, X_val),\n",
        "    callbacks=[\n",
        "        tfk.callbacks.EarlyStopping(monitor='val_loss', patience=15, restore_best_weights=True),\n",
        "        tfk.callbacks.ReduceLROnPlateau(monitor='val_loss', patience=10, factor=0.1, min_lr=1e-4),\n",
        "    ],\n",
        "    verbose=1\n",
        ").history\n",
        "\n",
        "# Calculate and print the final validation loss\n",
        "final_val_loss = round(min(history['val_loss']), 4)\n",
        "print(f'Final validation loss: {final_val_loss}')\n",
        "\n",
        "# Save the trained model to a file with the loss included in the filename\n",
        "model_filename = f'autoencoder_{final_val_loss}.keras'\n",
        "autoencoder.save(model_filename)\n",
        "\n",
        "# Delete the model to free up resources\n",
        "del autoencoder"
      ]
    },
    {
      "cell_type": "code",
      "execution_count": null,
      "id": "f7547694",
      "metadata": {
        "id": "f7547694"
      },
      "outputs": [],
      "source": [
        "# Identify the best epoch based on minimum validation loss\n",
        "best_epoch = np.argmin(history['val_loss'])\n",
        "\n",
        "# Plot training and validation loss\n",
        "plt.figure(figsize=(18,3))\n",
        "plt.plot(history['loss'], label='Training', alpha=.8, color='#ff7f0e', linewidth=2)\n",
        "plt.plot(history['val_loss'], label='Validation', alpha=.9, color='#5a9aa5', linewidth=2)\n",
        "plt.axvline(x=best_epoch, label='Best epoch', alpha=.3, ls='--', color='#5a9aa5')\n",
        "plt.title('Entropy (Loss)')\n",
        "plt.legend()\n",
        "plt.grid(alpha=.3)\n",
        "plt.show()\n",
        "\n",
        "# Plot learning rate\n",
        "plt.figure(figsize=(18,3))\n",
        "plt.plot(history['learning_rate'], label='Learning Rate', alpha=.8, color='#ff7f0e', linewidth=2)\n",
        "plt.axvline(x=best_epoch, label='Best epoch', alpha=.3, ls='--', color='#5a9aa5')\n",
        "plt.legend()\n",
        "plt.grid(alpha=.3)\n",
        "plt.show()"
      ]
    },
    {
      "cell_type": "markdown",
      "id": "hN2KnldJ2VXt",
      "metadata": {
        "id": "hN2KnldJ2VXt"
      },
      "source": [
        "## 🕹️ Use the Model - Make Inference"
      ]
    },
    {
      "cell_type": "markdown",
      "id": "rmg8l_K-3eKv",
      "metadata": {
        "id": "rmg8l_K-3eKv"
      },
      "source": [
        "### Autoencoder with 2-Dimensional Latent Space"
      ]
    },
    {
      "cell_type": "code",
      "execution_count": null,
      "id": "4c3e01b0",
      "metadata": {
        "id": "4c3e01b0"
      },
      "outputs": [],
      "source": [
        "# Load the pre-trained autoencoder model\n",
        "autoencoder = tfk.models.load_model('autoencoder_0.0303.keras')\n",
        "\n",
        "# Extract the encoder component from the autoencoder\n",
        "encoder = autoencoder.get_layer('encoder')\n",
        "\n",
        "# Extract the decoder component from the autoencoder\n",
        "decoder = autoencoder.get_layer('decoder')"
      ]
    },
    {
      "cell_type": "markdown",
      "source": [
        "#### Reconstruct Data"
      ],
      "metadata": {
        "id": "msCt_UxHBucM"
      },
      "id": "msCt_UxHBucM"
    },
    {
      "cell_type": "code",
      "execution_count": null,
      "id": "fac3b78f",
      "metadata": {
        "id": "fac3b78f"
      },
      "outputs": [],
      "source": [
        "# Configuration and model prediction\n",
        "num_col = 10\n",
        "predictions = autoencoder.predict(X_test[:num_col], verbose=0)\n",
        "\n",
        "# Set up plot dimensions\n",
        "fig, axes = plt.subplots(2, num_col, figsize=(15, 5))\n",
        "\n",
        "# Loop through the grid and populate subplots\n",
        "for i in range(num_col * 2):\n",
        "    ax = axes[i // num_col, i % num_col]\n",
        "    ax.axis('off')\n",
        "\n",
        "    # Display original images on the top row\n",
        "    if i < num_col:\n",
        "        ax.imshow(np.squeeze(X_test[i]), cmap='gray')\n",
        "        ax.set_title(f'Original: {y_test[i]}', fontsize=10)\n",
        "\n",
        "    # Display reconstructed images on subsequent rows\n",
        "    else:\n",
        "        ax.imshow(np.squeeze(predictions[i - num_col]), cmap='gray')\n",
        "        ax.set_title(f'Reconstructed: {y_test[i - num_col]}', fontsize=10)\n",
        "\n",
        "# Adjust layout and display the plot\n",
        "plt.tight_layout()\n",
        "plt.show()"
      ]
    },
    {
      "cell_type": "markdown",
      "id": "IjzHrFz23MvK",
      "metadata": {
        "id": "IjzHrFz23MvK"
      },
      "source": [
        "#### Project Data Into Latent Space"
      ]
    },
    {
      "cell_type": "code",
      "execution_count": null,
      "id": "9a30121a",
      "metadata": {
        "id": "9a30121a"
      },
      "outputs": [],
      "source": [
        "def plot_label_clusters(encoder, data, labels, samples=10000):\n",
        "    # Generate latent space representations\n",
        "    z_mean = encoder.predict(data[:samples], verbose=0)\n",
        "\n",
        "    # Apply TSNE if dimensions > 2\n",
        "    if z_mean.shape[-1] != 2:\n",
        "        tsne = TSNE(n_components=2, random_state=42)\n",
        "        z_mean = tsne.fit_transform(z_mean)\n",
        "\n",
        "    # Create figure object explicitly\n",
        "    fig = go.Figure()\n",
        "\n",
        "    # Add traces for each label\n",
        "    unique_labels = sorted(set(labels[:samples]))\n",
        "    colors = px.colors.qualitative.D3[:len(unique_labels)]\n",
        "\n",
        "    for label, color in zip(unique_labels, colors):\n",
        "        mask = labels[:samples] == label\n",
        "        fig.add_trace(go.Scatter(\n",
        "            x=z_mean[mask, 0],\n",
        "            y=z_mean[mask, 1],\n",
        "            mode='markers',\n",
        "            name=str(label),\n",
        "            marker=dict(\n",
        "                size=5,\n",
        "                color=color,\n",
        "                line=dict(width=0)\n",
        "            ),\n",
        "            showlegend=True\n",
        "        ))\n",
        "\n",
        "    # Configure layout with explicit positioning\n",
        "    fig.update_layout(\n",
        "        # Basic setup\n",
        "        showlegend=True,\n",
        "        template='plotly_white',\n",
        "        width=950,\n",
        "        height=800,\n",
        "\n",
        "        # Title configuration\n",
        "        title=dict(\n",
        "            text='Latent Space Visualization',\n",
        "            font=dict(size=22),\n",
        "            pad=dict(t=20),\n",
        "            yref='container',\n",
        "            y=0.95\n",
        "        ),\n",
        "\n",
        "        # Axes configuration\n",
        "        xaxis=dict(\n",
        "            title='First Component',\n",
        "            showgrid=True,\n",
        "            gridwidth=1,\n",
        "            gridcolor='lightgray',\n",
        "            zeroline=False,\n",
        "            title_font=dict(size=16),\n",
        "            tickfont=dict(size=14),\n",
        "            title_standoff=15\n",
        "        ),\n",
        "        yaxis=dict(\n",
        "            title='Second Component',\n",
        "            showgrid=True,\n",
        "            gridwidth=1,\n",
        "            gridcolor='lightgray',\n",
        "            zeroline=False,\n",
        "            title_font=dict(size=16),\n",
        "            tickfont=dict(size=14),\n",
        "            title_standoff=15\n",
        "        ),\n",
        "\n",
        "        # Legend configuration\n",
        "        legend=dict(\n",
        "            title=dict(text='Labels'),\n",
        "            yanchor='top',\n",
        "            y=0.99,\n",
        "            xanchor='right',\n",
        "            x=0.99,\n",
        "            bgcolor='rgba(255, 255, 255, 0.8)',\n",
        "            bordercolor='lightgray',\n",
        "            borderwidth=1,\n",
        "            itemsizing='constant',\n",
        "            font=dict(size=14)\n",
        "        ),\n",
        "\n",
        "        # Margins\n",
        "        margin=dict(l=80, r=80, t=100, b=80)\n",
        "    )\n",
        "\n",
        "    return fig\n",
        "\n",
        "# Project training data into latent space\n",
        "plot_label_clusters(encoder, X_train, y_train)"
      ]
    },
    {
      "cell_type": "markdown",
      "id": "9rVCfy913Q2I",
      "metadata": {
        "id": "9rVCfy913Q2I"
      },
      "source": [
        "#### Sample Data From Latent Space"
      ]
    },
    {
      "cell_type": "code",
      "execution_count": null,
      "id": "dce146c7",
      "metadata": {
        "id": "dce146c7"
      },
      "outputs": [],
      "source": [
        "def plot_latent_space_optimized(decoder, x_lim, y_lim, n_per_dim=20, digit_size=32):\n",
        "    # Generate a grid of values within provided x and y limits\n",
        "    grid_x = np.linspace(x_lim[0], x_lim[1], n_per_dim)\n",
        "    grid_y = np.linspace(y_lim[0], y_lim[1], n_per_dim)[::-1]\n",
        "    xv, yv = np.meshgrid(grid_x, grid_y)\n",
        "\n",
        "    # Create latent vectors for each grid point\n",
        "    latent_dim = decoder.input_shape[-1]\n",
        "    z_samples = np.stack([np.linspace(x, y, latent_dim) for x, y in zip(xv.flatten(), yv.flatten())])\n",
        "\n",
        "    # Decode the latent vectors into images\n",
        "    x_decoded = decoder.predict(z_samples, verbose=0)\n",
        "    digits = x_decoded.reshape(n_per_dim, n_per_dim, digit_size, digit_size)\n",
        "\n",
        "    # Combine the individual images into a single large image\n",
        "    figure = np.block([[digits[i, j] for j in range(n_per_dim)] for i in range(n_per_dim)])\n",
        "\n",
        "    # Plot the large image using Plotly\n",
        "    fig = go.Figure(data=go.Heatmap(\n",
        "        z=figure,\n",
        "        x=np.round(grid_x, 1),\n",
        "        y=np.round(grid_y, 1),\n",
        "        colorscale=\"Gray\",\n",
        "        showscale=False\n",
        "    ))\n",
        "\n",
        "    fig.update_layout(\n",
        "        title='Latent Space - Uniform Samples',\n",
        "        xaxis_title='$z_0$',\n",
        "        yaxis_title='$z_1$',\n",
        "        title_font_size=20,\n",
        "        font=dict(\n",
        "            size=16,\n",
        "            color=\"black\"\n",
        "        ),\n",
        "        title_x=0.5,\n",
        "        width=950,\n",
        "        height=950\n",
        "    )\n",
        "\n",
        "    fig.show()\n",
        "\n",
        "# Sample data from latent space\n",
        "plot_latent_space_optimized(decoder, [-5, 5], [-5, 5])"
      ]
    },
    {
      "cell_type": "markdown",
      "id": "lFEoRpvY3mdO",
      "metadata": {
        "id": "lFEoRpvY3mdO"
      },
      "source": [
        "### Autoencoder with 64-Dimensional Latent Space"
      ]
    },
    {
      "cell_type": "code",
      "execution_count": null,
      "id": "va83-ZE93siC",
      "metadata": {
        "id": "va83-ZE93siC"
      },
      "outputs": [],
      "source": [
        "# Load the pre-trained autoencoder model\n",
        "autoencoder = tfk.models.load_model('autoencoder64_0.0008.keras')\n",
        "\n",
        "# Extract the encoder component from the autoencoder\n",
        "encoder = autoencoder.get_layer('encoder')\n",
        "\n",
        "# Extract the decoder component from the autoencoder\n",
        "decoder = autoencoder.get_layer('decoder')"
      ]
    },
    {
      "cell_type": "markdown",
      "id": "yU4-qBP43vvH",
      "metadata": {
        "id": "yU4-qBP43vvH"
      },
      "source": [
        "#### Reconstruct Data"
      ]
    },
    {
      "cell_type": "code",
      "execution_count": null,
      "id": "AEbczLec3xap",
      "metadata": {
        "id": "AEbczLec3xap"
      },
      "outputs": [],
      "source": [
        "# Configuration and model prediction\n",
        "num_col = 10\n",
        "predictions = autoencoder.predict(X_test[:num_col], verbose=0)\n",
        "\n",
        "# Set up plot dimensions\n",
        "fig, axes = plt.subplots(2, num_col, figsize=(15, 5))\n",
        "\n",
        "# Loop through the grid and populate subplots\n",
        "for i in range(num_col * 2):\n",
        "    ax = axes[i // num_col, i % num_col]\n",
        "    ax.axis('off')\n",
        "\n",
        "    # Display original images on the top row\n",
        "    if i < num_col:\n",
        "        ax.imshow(np.squeeze(X_test[i]), cmap='gray')\n",
        "        ax.set_title(f'Original: {y_test[i]}', fontsize=10)\n",
        "\n",
        "    # Display reconstructed images on subsequent rows\n",
        "    else:\n",
        "        ax.imshow(np.squeeze(predictions[i - num_col]), cmap='gray')\n",
        "        ax.set_title(f'Reconstructed: {y_test[i - num_col]}', fontsize=10)\n",
        "\n",
        "# Adjust layout and display the plot\n",
        "plt.tight_layout()\n",
        "plt.show()"
      ]
    },
    {
      "cell_type": "markdown",
      "id": "508_7zxm34CH",
      "metadata": {
        "id": "508_7zxm34CH"
      },
      "source": [
        "#### Project Data Into Latent Space"
      ]
    },
    {
      "cell_type": "code",
      "execution_count": null,
      "id": "kJBpcSV74COm",
      "metadata": {
        "id": "kJBpcSV74COm"
      },
      "outputs": [],
      "source": [
        "# Project training data into latent space\n",
        "plot_label_clusters(encoder, X_train, y_train)"
      ]
    },
    {
      "cell_type": "markdown",
      "id": "DU3bEaHB4l_y",
      "metadata": {
        "id": "DU3bEaHB4l_y"
      },
      "source": [
        "#  \n",
        "<img src=\"https://airlab.deib.polimi.it/wp-content/uploads/2019/07/airlab-logo-new_cropped.png\" width=\"350\">\n",
        "\n",
        "<img src=\"https://upload.wikimedia.org/wikipedia/commons/thumb/9/95/Instagram_logo_2022.svg/800px-Instagram_logo_2022.svg.png\" width=\"15\"> **Instagram:** https://www.instagram.com/airlab_polimi/\n",
        "\n",
        "<img src=\"https://upload.wikimedia.org/wikipedia/commons/thumb/8/81/LinkedIn_icon.svg/2048px-LinkedIn_icon.svg.png\" width=\"15\"> **LinkedIn:** https://www.linkedin.com/company/airlab-polimi/\n",
        "___\n",
        "Credits: Eugenio Lomurno 📧 eugenio.lomurno@polimi.it\n",
        "\n",
        "\n",
        "\n",
        "\n",
        "\n",
        "```\n",
        "   Copyright 2024 Eugenio Lomurno\n",
        "\n",
        "   Licensed under the Apache License, Version 2.0 (the \"License\");\n",
        "   you may not use this file except in compliance with the License.\n",
        "   You may obtain a copy of the License at\n",
        "\n",
        "       http://www.apache.org/licenses/LICENSE-2.0\n",
        "\n",
        "   Unless required by applicable law or agreed to in writing, software\n",
        "   distributed under the License is distributed on an \"AS IS\" BASIS,\n",
        "   WITHOUT WARRANTIES OR CONDITIONS OF ANY KIND, either express or implied.\n",
        "   See the License for the specific language governing permissions and\n",
        "   limitations under the License.\n",
        "```"
      ]
    }
  ],
  "metadata": {
    "accelerator": "GPU",
    "colab": {
      "gpuType": "T4",
      "provenance": [],
      "include_colab_link": true
    },
    "kernelspec": {
      "display_name": "Python 3",
      "name": "python3"
    },
    "language_info": {
      "codemirror_mode": {
        "name": "ipython",
        "version": 3
      },
      "file_extension": ".py",
      "mimetype": "text/x-python",
      "name": "python",
      "nbconvert_exporter": "python",
      "pygments_lexer": "ipython3",
      "version": "3.11.0rc1"
    }
  },
  "nbformat": 4,
  "nbformat_minor": 5
}